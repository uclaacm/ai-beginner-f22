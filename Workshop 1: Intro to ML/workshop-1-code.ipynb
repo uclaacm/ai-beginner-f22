{
  "nbformat": 4,
  "nbformat_minor": 0,
  "metadata": {
    "colab": {
      "provenance": [],
      "collapsed_sections": [],
      "include_colab_link": true
    },
    "kernelspec": {
      "name": "python3",
      "display_name": "Python 3"
    },
    "language_info": {
      "name": "python"
    }
  },
  "cells": [
    {
      "cell_type": "markdown",
      "metadata": {
        "id": "view-in-github",
        "colab_type": "text"
      },
      "source": [
        "<a href=\"https://colab.research.google.com/github/uclaacm/ai-beginner-f22/blob/main/workshop-1-code.ipynb\" target=\"_parent\"><img src=\"https://colab.research.google.com/assets/colab-badge.svg\" alt=\"Open In Colab\"/></a>"
      ]
    },
    {
      "cell_type": "markdown",
      "metadata": {
        "id": "NQtdGuhYtyJL"
      },
      "source": [
        "# ACM AI Beginner Track\n",
        "# Intro to Python - Skeleton Notebook"
      ]
    },
    {
      "cell_type": "markdown",
      "metadata": {
        "id": "yqff7ldmtyJX"
      },
      "source": [
        "## Data Types and Operations"
      ]
    },
    {
      "cell_type": "markdown",
      "metadata": {
        "id": "ZuDMq4Ksy3QF"
      },
      "source": [
        "### Q. How would we do Math?"
      ]
    },
    {
      "cell_type": "markdown",
      "metadata": {
        "id": "XhRThA52tyJa"
      },
      "source": [
        "### Integers and Floats"
      ]
    },
    {
      "cell_type": "code",
      "metadata": {
        "id": "KM09YgnEtyJf"
      },
      "source": [
        "# Addition\n"
      ],
      "execution_count": null,
      "outputs": []
    },
    {
      "cell_type": "code",
      "metadata": {
        "id": "ILdV42G3tyJ2"
      },
      "source": [
        "# Multiplication\n"
      ],
      "execution_count": null,
      "outputs": []
    },
    {
      "cell_type": "code",
      "metadata": {
        "id": "G1H9GQ2etyKG"
      },
      "source": [
        "# Subtraction\n"
      ],
      "execution_count": null,
      "outputs": []
    },
    {
      "cell_type": "code",
      "metadata": {
        "id": "kfR1ASurtyKd"
      },
      "source": [
        "# Modulo \n"
      ],
      "execution_count": null,
      "outputs": []
    },
    {
      "cell_type": "code",
      "metadata": {
        "id": "D08L3g98tyKT"
      },
      "source": [
        "# Division\n"
      ],
      "execution_count": null,
      "outputs": []
    },
    {
      "cell_type": "code",
      "metadata": {
        "id": "aHBhww7kx-PS"
      },
      "source": [
        "# Integer Division\n"
      ],
      "execution_count": null,
      "outputs": []
    },
    {
      "cell_type": "code",
      "metadata": {
        "id": "8_NP1sHktyLH"
      },
      "source": [
        "# Exponentiation \n"
      ],
      "execution_count": null,
      "outputs": []
    },
    {
      "cell_type": "markdown",
      "metadata": {
        "id": "cELUmB_7zAFB"
      },
      "source": [
        "I just came up with a cool number, how do I save it?"
      ]
    },
    {
      "cell_type": "markdown",
      "metadata": {
        "id": "2GqfoemptyLU"
      },
      "source": [
        "### Variables\n",
        "Variables cannot begin with numbers or special characters. Variable naming conventions use all lowercase letters, with words separated by underscores."
      ]
    },
    {
      "cell_type": "code",
      "metadata": {
        "id": "Di_nGdgBtyLW"
      },
      "source": [
        "# define a variable\n",
        "x = 5\n",
        "x"
      ],
      "execution_count": null,
      "outputs": []
    },
    {
      "cell_type": "code",
      "metadata": {
        "id": "9U7f1D0ktyLf"
      },
      "source": [
        "# use variables to do math like we talked about before\n"
      ],
      "execution_count": null,
      "outputs": []
    },
    {
      "cell_type": "code",
      "metadata": {
        "id": "ey61zD_Gyybe"
      },
      "source": [
        "# Initialize x as 3\n"
      ],
      "execution_count": null,
      "outputs": []
    },
    {
      "cell_type": "markdown",
      "metadata": {
        "id": "9qrsqz3gyoba"
      },
      "source": [
        "**Important Note:** <br>\n",
        "Google Colab notebooks preserve the state of the variables. <br>\n",
        "Try running the cell below twice and see what the output is\n"
      ]
    },
    {
      "cell_type": "code",
      "metadata": {
        "id": "6jzQYBnuyXfi"
      },
      "source": [
        "x = x+1\n",
        "print(x)        # what do you think the output will be?"
      ],
      "execution_count": null,
      "outputs": []
    },
    {
      "cell_type": "markdown",
      "metadata": {
        "id": "alDmD7JbzEk2"
      },
      "source": [
        "### Q. I want to store my name in the computer, how would I do that?\n"
      ]
    },
    {
      "cell_type": "markdown",
      "metadata": {
        "id": "gwt5KfPwtyMA"
      },
      "source": [
        "### Strings\n",
        "Python makes use of single and double quotes."
      ]
    },
    {
      "cell_type": "code",
      "metadata": {
        "id": "WZhlJGBYtyMC"
      },
      "source": [
        "# Define a string in two ways\n"
      ],
      "execution_count": null,
      "outputs": []
    },
    {
      "cell_type": "code",
      "source": [],
      "metadata": {
        "id": "6ysK5j0eV0_j"
      },
      "execution_count": null,
      "outputs": []
    },
    {
      "cell_type": "markdown",
      "metadata": {
        "id": "w9fpcDR-zJ8T"
      },
      "source": [
        "### Q. How would I get the computer to display my name, which I had just stored?"
      ]
    },
    {
      "cell_type": "markdown",
      "metadata": {
        "id": "t_iz-2obtyMd"
      },
      "source": [
        "### Printing \n",
        "The main way to ouput data in Python."
      ]
    },
    {
      "cell_type": "code",
      "metadata": {
        "id": "qV4APqO2tyMf"
      },
      "source": [
        "# print(value to be printed)\n"
      ],
      "execution_count": null,
      "outputs": []
    },
    {
      "cell_type": "code",
      "metadata": {
        "id": "DSnmWy5Cx1YI"
      },
      "source": [
        "print(name, \"is  \", x , \" years old \")"
      ],
      "execution_count": null,
      "outputs": []
    },
    {
      "cell_type": "code",
      "metadata": {
        "id": "Wg8cDwGdxnte"
      },
      "source": [
        "# This is a comment entry "
      ],
      "execution_count": null,
      "outputs": []
    },
    {
      "cell_type": "markdown",
      "metadata": {
        "id": "KTg6FqLczNc4"
      },
      "source": [
        "### Q. How would I store multiple values in one spot?"
      ]
    },
    {
      "cell_type": "markdown",
      "metadata": {
        "id": "X2F8lQxVtyNE"
      },
      "source": [
        "### Lists\n",
        "Lists are containers for data."
      ]
    },
    {
      "cell_type": "code",
      "metadata": {
        "id": "4II3hh5RtyNF"
      },
      "source": [
        "# Lists are enclosed in square brackets \n"
      ],
      "execution_count": null,
      "outputs": []
    },
    {
      "cell_type": "code",
      "source": [
        "# initialize a list of 0s\n",
        "[0] * 10"
      ],
      "metadata": {
        "id": "auQsNNruY9R2"
      },
      "execution_count": null,
      "outputs": []
    },
    {
      "cell_type": "code",
      "metadata": {
        "id": "CR0nlZCztyNV"
      },
      "source": [
        "# You can have different data types in a list.\n"
      ],
      "execution_count": null,
      "outputs": []
    },
    {
      "cell_type": "code",
      "metadata": {
        "id": "3SGQ65ZqtyNg"
      },
      "source": [
        "# You can also have nested lists.\n"
      ],
      "execution_count": null,
      "outputs": []
    },
    {
      "cell_type": "code",
      "metadata": {
        "id": "_UpbqrmptyNm"
      },
      "source": [
        "# If you want to store another value at the end of your list you can use the list.append() function\n",
        "my_list = [1, 2, 3, 4, 5]\n",
        "print(my_list)\n",
        "\n"
      ],
      "execution_count": null,
      "outputs": []
    },
    {
      "cell_type": "code",
      "metadata": {
        "id": "gUPC5f3Oyz8M"
      },
      "source": [
        "# insert function\n"
      ],
      "execution_count": null,
      "outputs": []
    },
    {
      "cell_type": "code",
      "source": [
        "# pop function\n"
      ],
      "metadata": {
        "id": "sZPY1n-PXeJr"
      },
      "execution_count": null,
      "outputs": []
    },
    {
      "cell_type": "markdown",
      "metadata": {
        "id": "IoRQYpHI2zI6"
      },
      "source": [
        "### Q. Storing values is great, but now how do I get those values back? How do I access them?\n"
      ]
    },
    {
      "cell_type": "markdown",
      "metadata": {
        "id": "MQ1l-e6YB8jY"
      },
      "source": [
        "###Indexing"
      ]
    },
    {
      "cell_type": "code",
      "metadata": {
        "id": "dtqDRKsVCBET"
      },
      "source": [
        "# indices  0  1      2        3  4  5   6 7  8\n",
        "numbers = [3, 1, [4, [1, 5]], 9, 2, 6, 5, 3, 5]"
      ],
      "execution_count": null,
      "outputs": []
    },
    {
      "cell_type": "code",
      "metadata": {
        "id": "qGqrJv5gtyNy"
      },
      "source": [
        "# You can index lists using bracket notation. Indexing begins at 0.\n"
      ],
      "execution_count": null,
      "outputs": []
    },
    {
      "cell_type": "code",
      "metadata": {
        "id": "8w5MOf1ltyN5"
      },
      "source": [
        "numbers[5]\n",
        "# what value does this refer to?"
      ],
      "execution_count": null,
      "outputs": []
    },
    {
      "cell_type": "code",
      "metadata": {
        "id": "COuiSU7JtyOG"
      },
      "source": [
        "numbers[2][1][1]        \n",
        "# what value does this refer to?"
      ],
      "execution_count": null,
      "outputs": []
    },
    {
      "cell_type": "code",
      "source": [
        "numbers[-1] # gets the last element"
      ],
      "metadata": {
        "id": "prB7JU2VXwuO"
      },
      "execution_count": null,
      "outputs": []
    },
    {
      "cell_type": "markdown",
      "metadata": {
        "id": "rduAgwt9C10r"
      },
      "source": [
        "Accessing multiple elements at once"
      ]
    },
    {
      "cell_type": "code",
      "metadata": {
        "id": "ecDmCKcA6tLy"
      },
      "source": [
        "my_list = [5, 10, 15, 20, 25]"
      ],
      "execution_count": null,
      "outputs": []
    },
    {
      "cell_type": "code",
      "metadata": {
        "id": "aotNCdqP6w4X"
      },
      "source": [
        "# list[start_index(inclusive) : end_index (not inclusive)]\n"
      ],
      "execution_count": null,
      "outputs": []
    },
    {
      "cell_type": "code",
      "metadata": {
        "id": "SMwZlJ8ZtyOP"
      },
      "source": [
        "# Grab all elements at position 1 and onwards.\n"
      ],
      "execution_count": null,
      "outputs": []
    },
    {
      "cell_type": "code",
      "metadata": {
        "id": "GgYtc3yotyOW"
      },
      "source": [
        "# Grab all elements from the start until, but not including position 3.\n"
      ],
      "execution_count": null,
      "outputs": []
    },
    {
      "cell_type": "code",
      "metadata": {
        "id": "pB9uG0hCtyOm"
      },
      "source": [
        "# You can also reassign elements in a list.\n",
        "numbers[0] = 'one'\n",
        "numbers"
      ],
      "execution_count": null,
      "outputs": []
    },
    {
      "cell_type": "markdown",
      "metadata": {
        "id": "ArhyaIuhtyQN"
      },
      "source": [
        "## if, elif and else Statements"
      ]
    },
    {
      "cell_type": "markdown",
      "metadata": {
        "id": "U4cWbR6WzXLG"
      },
      "source": [
        "### Q. How would I get my computer to tell me to carry an umbrella if it is raining outside?"
      ]
    },
    {
      "cell_type": "code",
      "metadata": {
        "id": "Q9QHwBDmzi80"
      },
      "source": [],
      "execution_count": null,
      "outputs": []
    },
    {
      "cell_type": "markdown",
      "metadata": {
        "id": "rw2QYpYgzvy2"
      },
      "source": [
        "### Q. How would I get my computer to tell me whether I have enough swipes to enter De Neve's Dining Hall?"
      ]
    },
    {
      "cell_type": "code",
      "metadata": {
        "id": "zLgaHu8kztln"
      },
      "source": [],
      "execution_count": null,
      "outputs": []
    },
    {
      "cell_type": "code",
      "source": [],
      "metadata": {
        "id": "5RY4at4Wi_xF"
      },
      "execution_count": null,
      "outputs": []
    },
    {
      "cell_type": "markdown",
      "metadata": {
        "id": "k__Z_WHdz8FQ"
      },
      "source": [
        "###  Q. How would I get my computer to tell me whether I can go to the UCLA vs USC football game? "
      ]
    },
    {
      "cell_type": "code",
      "metadata": {
        "id": "5T6rQnvUz7MZ"
      },
      "source": [],
      "execution_count": null,
      "outputs": []
    },
    {
      "cell_type": "markdown",
      "metadata": {
        "id": "aEUQLOGYtyQd"
      },
      "source": [
        "## For Loops"
      ]
    },
    {
      "cell_type": "markdown",
      "metadata": {
        "id": "knKfw9et04Ke"
      },
      "source": [
        "### Q. I want to print out the UCLA chant: <br> U - C - L - A. <br> UCLA. <br> FIGHT <br> FIGHT<br> FIGHT <br>\n",
        "\n",
        "But I don't want to type out \"FIGHT\" 3 times. How would I get the computer to print it out as many times as I want?"
      ]
    },
    {
      "cell_type": "code",
      "metadata": {
        "id": "7k1Khdzv1Ek1"
      },
      "source": [],
      "execution_count": null,
      "outputs": []
    },
    {
      "cell_type": "markdown",
      "metadata": {
        "id": "unWzZlTy1f9T"
      },
      "source": [
        "### Q. I want to print out the list of classes I'm enrolled in"
      ]
    },
    {
      "cell_type": "code",
      "metadata": {
        "id": "T6xW-76R1fX5"
      },
      "source": [
        "classes = [\"CS31\", \"Engcomp 3\", \"Math 31A\"]\n",
        "for xyz in classes:\n",
        "  print(xyz)"
      ],
      "execution_count": null,
      "outputs": []
    },
    {
      "cell_type": "markdown",
      "metadata": {
        "id": "XtvGbnaNtyRO"
      },
      "source": [
        "## Functions"
      ]
    },
    {
      "cell_type": "markdown",
      "metadata": {
        "id": "SoAt1k4w2Ou3"
      },
      "source": [
        "### Q. I wrote a really nice piece of code to print out my name 5 times. <br> My friend wants to also print out their name 5 times. <br> Should I just copy-paste my code? "
      ]
    },
    {
      "cell_type": "code",
      "metadata": {
        "id": "-p6M0nwu2LAi"
      },
      "source": [
        "for _ in range(5):\n",
        "  print(\"Nachenberg\")"
      ],
      "execution_count": null,
      "outputs": []
    },
    {
      "cell_type": "code",
      "metadata": {
        "id": "IBaFM-Bp5MJH"
      },
      "source": [],
      "execution_count": null,
      "outputs": []
    },
    {
      "cell_type": "code",
      "metadata": {
        "id": "_M9J32s55g7A"
      },
      "source": [
        "# pass param by position\n",
        "print_name(\"Nachenberg\")"
      ],
      "execution_count": null,
      "outputs": []
    },
    {
      "cell_type": "code",
      "metadata": {
        "id": "JO6MDbhm5j84"
      },
      "source": [
        "# pass param by name\n",
        "print_name(name=\"Smallberg\")"
      ],
      "execution_count": null,
      "outputs": []
    },
    {
      "cell_type": "markdown",
      "metadata": {
        "id": "afNO-jQ8EXj9"
      },
      "source": [
        "Exercises"
      ]
    },
    {
      "cell_type": "code",
      "metadata": {
        "id": "AJzVMHCBvbsK"
      },
      "source": [
        "# If you're looking for some extra problems to test out your knowledge, check out this worksheet!\n",
        "# https://drive.google.com/file/d/1QNRb4aZ_0Bk_nGoosZipVNVywakJJWM_/view?usp=sharing"
      ],
      "execution_count": null,
      "outputs": []
    }
  ]
}